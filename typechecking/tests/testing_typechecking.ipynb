{
 "cells": [
  {
   "cell_type": "code",
   "execution_count": 211,
   "id": "e2c52b19",
   "metadata": {},
   "outputs": [],
   "source": [
    "from enum import Enum\n",
    "from string import ascii_letters\n",
    "from random import randint, uniform, choice, choices\n",
    "\n",
    "import os\n",
    "import json\n",
    "import threading\n",
    "import jsonschema\n",
    "from time import perf_counter\n",
    "\n",
    "from pprint import pprint  # Pretty Print for debugging\n",
    "\n",
    "import polars as pl\n",
    "import seaborn as sns\n",
    "import matplotlib.pyplot as plt"
   ]
  },
  {
   "cell_type": "code",
   "execution_count": 199,
   "id": "89473f4e",
   "metadata": {},
   "outputs": [
    {
     "name": "stdout",
     "output_type": "stream",
     "text": [
      "{'Boolean': {'type': 'boolean'},\n",
      " 'Float32': {'range': (-3.4028235e+38, 3.4028235e+38), 'type': 'number'},\n",
      " 'Float64': {'range': (-1.7976931348623157e+308, 1.7976931348623157e+308),\n",
      "             'type': 'number'},\n",
      " 'Int128': {'range': (-170141183460469231731687303715884105728,\n",
      "                      170141183460469231731687303715884105727),\n",
      "            'type': 'integer'},\n",
      " 'Int16': {'range': (-32768, 32767), 'type': 'integer'},\n",
      " 'Int32': {'range': (-2147483648, 2147483647), 'type': 'integer'},\n",
      " 'Int64': {'range': (-9223372036854775808, 9223372036854775807),\n",
      "           'type': 'integer'},\n",
      " 'Int8': {'range': (-128, 127), 'type': 'integer'},\n",
      " 'String': {'type': 'string'},\n",
      " 'UInt16': {'range': (0, 65536), 'type': 'integer'},\n",
      " 'UInt32': {'range': (0, 4294967296), 'type': 'integer'},\n",
      " 'UInt64': {'range': (0, 18446744073709551616), 'type': 'integer'},\n",
      " 'UInt8': {'range': (0, 256), 'type': 'integer'}}\n"
     ]
    }
   ],
   "source": [
    "def get_ranges_int(bits: int, unsigned: bool = False) -> tuple[int, int]:\n",
    "    \"\"\"Return the range of values for a given bit width.\"\"\"\n",
    "    # Limit to 32 bits for practical purposes. In production remove this limit\n",
    "    if unsigned:\n",
    "        return (0, 2**bits)\n",
    "    return (-(2 ** (bits - 1)), 2 ** (bits - 1) - 1)\n",
    "\n",
    "\n",
    "def get_ranges_float(bits: int) -> tuple[float, float]:\n",
    "    \"\"\"Return the range of values for a given float bit width.\"\"\"\n",
    "    # For practical purposes, we're considering 32 and 64 bits and will have the same range\n",
    "    if bits == 32:\n",
    "        return (-3.4028235e38, 3.4028235e38)\n",
    "\n",
    "    if bits == 64:\n",
    "        return (-1.7976931348623157e308, 1.7976931348623157e308)\n",
    "\n",
    "    raise ValueError(\"Unsupported float bit width.\")\n",
    "\n",
    "\n",
    "datatype_ranges = {\n",
    "    **{\n",
    "        f\"Int{bits}\": {\"type\": \"integer\", \"range\": get_ranges_int(bits, False)}\n",
    "        for bits in [8, 16, 32, 64, 128]\n",
    "    },\n",
    "    **{\n",
    "        f\"UInt{bits}\": {\"type\": \"integer\", \"range\": get_ranges_int(bits, True)}\n",
    "        for bits in [8, 16, 32, 64]\n",
    "    },\n",
    "    **{\n",
    "        f\"Float{bits}\": {\"type\": \"number\", \"range\": get_ranges_float(bits)}\n",
    "        for bits in [32, 64]\n",
    "    },\n",
    "    \"Boolean\": {\"type\": \"boolean\"},\n",
    "    \"String\": {\"type\": \"string\"},\n",
    "}\n",
    "\n",
    "pprint(datatype_ranges)"
   ]
  },
  {
   "cell_type": "markdown",
   "id": "5b3eec37",
   "metadata": {},
   "source": [
    "## Generate CSV's and its jsonschema for validation"
   ]
  },
  {
   "cell_type": "code",
   "execution_count": 200,
   "id": "1fcf0313",
   "metadata": {},
   "outputs": [],
   "source": [
    "def random_string(length: int = 10) -> str:\n",
    "    \"\"\"Generate a random string of fixed length.\"\"\"\n",
    "    return ''.join(choice(ascii_letters) for _ in range(length))\n",
    "\n",
    "\n",
    "class DataType(Enum):\n",
    "    \"\"\"Enum for data types.\"\"\"\n",
    "\n",
    "    # Some data types are commented out for practical purposes.\n",
    "    Int8 = {\"name\": \"Int8\", \"random_data\": lambda: randint(*get_ranges_int(8, False))}\n",
    "    Int16 = {\"name\": \"Int16\", \"random_data\": lambda: randint(*get_ranges_int(16, False))}\n",
    "    Int32 = {\"name\": \"Int32\", \"random_data\": lambda: randint(*get_ranges_int(32, False))}\n",
    "    # Int64 = {\"name\": \"Int64\", \"random_data\": lambda: randint(*get_ranges_int(64, False))}\n",
    "    # Int128 = {\"name\": \"Int128\", \"random_data\": lambda: randint(*get_ranges_int(128, False))}\n",
    "    UInt8 = {\"name\": \"UInt8\", \"random_data\": lambda: randint(*get_ranges_int(8, True))}\n",
    "    UInt16 = {\"name\": \"UInt16\", \"random_data\": lambda: randint(*get_ranges_int(16, True))}\n",
    "    UInt32 = {\"name\": \"UInt32\", \"random_data\": lambda: randint(*get_ranges_int(32, True))}\n",
    "    # UInt64 = {\"name\": \"UInt64\", \"random_data\": lambda: randint(*get_ranges_int(64, True))}\n",
    "    Float32 = {\"name\": \"Float32\", \"random_data\": lambda: uniform(*get_ranges_float(32))}\n",
    "    # Float64 = {\"name\": \"Float64\", \"random_data\": lambda: uniform(*get_ranges_float(64))}\n",
    "    Boolean = {\"name\": \"Boolean\", \"random_data\": lambda: choice([True, False])}\n",
    "    String = {\"name\": \"String\", \"random_data\": lambda: random_string(randint(1, 20))}"
   ]
  },
  {
   "cell_type": "code",
   "execution_count": 213,
   "id": "af58ae91",
   "metadata": {},
   "outputs": [],
   "source": [
    "def generate_jsonschema(df: pl.DataFrame) -> dict:\n",
    "    \"\"\"\n",
    "    Generates a JSON schema with the specified number of rows and columns.\n",
    "    Each column will have a unique name and type 'integer'.\n",
    "    \"\"\"\n",
    "    properties = {}\n",
    "    for col, dtype in df.schema.items():\n",
    "        dtype_str = str(dtype)\n",
    "        if dtype_str not in datatype_ranges:\n",
    "            print(f\"Unsupported data type: {dtype_str}\")\n",
    "            continue\n",
    "\n",
    "        dtype_info = datatype_ranges[dtype_str]\n",
    "        properties[col] = {\"type\": dtype_info[\"type\"]}\n",
    "        if \"range\" in dtype_info:\n",
    "            properties[col][\"minimum\"] = dtype_info[\"range\"][0]\n",
    "            properties[col][\"maximum\"] = dtype_info[\"range\"][1]\n",
    "\n",
    "    schema = {\n",
    "        \"$schema\": \"http://json-schema.org/draft-04/schema#\",\n",
    "        \"type\": \"object\",\n",
    "        \"properties\": properties,\n",
    "        \"required\": list(properties.keys()),\n",
    "        \"additionalProperties\": False,\n",
    "    }\n",
    "\n",
    "    return schema\n",
    "\n",
    "\n",
    "def generate_csv(rows: int, columns: int, path: str = \"./tmp\") -> bool:\n",
    "    \"\"\"\n",
    "    Generates a CSV file with the specified number of rows and columns.\n",
    "    Each column will have a unique name and random integer values.\n",
    "    \"\"\"\n",
    "\n",
    "    def generate_data(dtype: DataType, size: int) -> list:\n",
    "        \"\"\"Generate a list of random data based on the DataType.\"\"\"\n",
    "        return [dtype.value[\"random_data\"]() for _ in range(size)]\n",
    "\n",
    "    dtype_options = list(DataType)\n",
    "    data = {\n",
    "        f\"col_{i}-{opt.value['name']}\": pl.Series(generate_data(opt, size=rows))\n",
    "        for i, opt in enumerate(choices(dtype_options, k=columns))\n",
    "    }\n",
    "\n",
    "    df = pl.DataFrame(data)\n",
    "\n",
    "    # Save the DataFrame to a CSV file\n",
    "    try:\n",
    "        df.write_csv(f\"{path}/data_rows-{rows}_columns-{columns}.csv\")\n",
    "    except Exception:\n",
    "        return False\n",
    "\n",
    "    # Save the JSON schema\n",
    "    schema = generate_jsonschema(df)\n",
    "    with open(f\"{path}/schema_rows-{rows}_columns-{columns}.json\", \"w\") as f:\n",
    "        f.write(json.dumps(schema, indent=2))\n",
    "\n",
    "    return True"
   ]
  },
  {
   "cell_type": "code",
   "execution_count": 214,
   "id": "963c1812",
   "metadata": {},
   "outputs": [],
   "source": [
    "# Generate csvs with fixed number of rows and varying columns\n",
    "rows_fixed = 1000\n",
    "path_rows = os.path.join(\"tmp\", f\"rows-{rows_fixed}\")\n",
    "os.makedirs(path_rows, exist_ok=True)\n",
    "\n",
    "for i in range(100, 1001, 100):\n",
    "    generate_csv(rows_fixed, i, path=path_rows)"
   ]
  },
  {
   "cell_type": "code",
   "execution_count": 215,
   "id": "fc41b465",
   "metadata": {},
   "outputs": [],
   "source": [
    "# Generate csvs with fixed number of columns and varying rows\n",
    "columns_fixed = 100\n",
    "path_columns = os.path.join(\"tmp\", f\"columns-{columns_fixed}\")\n",
    "os.makedirs(path_columns, exist_ok=True)\n",
    "for i in range(1000, 10001, 1000):\n",
    "    generate_csv(i, columns_fixed, path=path_columns)"
   ]
  },
  {
   "cell_type": "markdown",
   "id": "4c0e4058",
   "metadata": {},
   "source": [
    "## Plot results\n",
    "\n",
    "Measure time of execution"
   ]
  },
  {
   "cell_type": "code",
   "execution_count": 216,
   "id": "633bb5e2",
   "metadata": {},
   "outputs": [],
   "source": [
    "def validate_csv(path: str, n_workers: int = 4) -> pl.DataFrame:\n",
    "    # Load the CSV file and its schema\n",
    "    df = pl.read_csv(path)\n",
    "    schema_path = path.replace(\".csv\", \".json\").replace(\"data\", \"schema\")\n",
    "    with open(schema_path, \"r\") as f:\n",
    "        schema = json.load(f)\n",
    "\n",
    "    # Chunkiy\n",
    "    chunk_size = len(df) // n_workers\n",
    "    chunks = [df[i : i + chunk_size] for i in range(0, len(df), chunk_size)]\n",
    "\n",
    "    # Start threads to validate each chunk\n",
    "    threads = []\n",
    "    for chunk in chunks:\n",
    "        thread = threading.Thread(\n",
    "            target=validate_chunks, args=(chunk.to_dicts(), schema)\n",
    "        )\n",
    "        threads.append(thread)\n",
    "        thread.start()\n",
    "\n",
    "    for thread in threads:\n",
    "        thread.join()\n",
    "\n",
    "    return df\n",
    "\n",
    "\n",
    "def validate_chunks(data: list[dict], schema: dict) -> bool:\n",
    "    for item in data:\n",
    "        try:\n",
    "            jsonschema.validate(instance=item, schema=schema)\n",
    "        except Exception as e:\n",
    "            print(f\"Validation error: {repr(e)} - {item}\")\n"
   ]
  },
  {
   "cell_type": "markdown",
   "id": "42445567",
   "metadata": {},
   "source": [
    "### Fixed rows"
   ]
  },
  {
   "cell_type": "code",
   "execution_count": null,
   "id": "ae001e55",
   "metadata": {},
   "outputs": [
    {
     "name": "stdout",
     "output_type": "stream",
     "text": [
      "Validating data_rows-1000_columns-500.csv... Done in 20.57 seconds.\n",
      "Validating data_rows-1000_columns-800.csv... Done in 32.70 seconds.\n",
      "Validating data_rows-1000_columns-400.csv... Done in 16.52 seconds.\n",
      "Validating data_rows-1000_columns-1000.csv... Done in 41.10 seconds.\n",
      "Validating data_rows-1000_columns-100.csv... Done in 4.55 seconds.\n",
      "Validating data_rows-1000_columns-300.csv... Done in 12.45 seconds.\n",
      "Validating data_rows-1000_columns-700.csv... Done in 28.39 seconds.\n",
      "Validating data_rows-1000_columns-900.csv... Done in 36.58 seconds.\n",
      "Validating data_rows-1000_columns-600.csv... Done in 24.94 seconds.\n",
      "Validating data_rows-1000_columns-200.csv... Done in 8.33 seconds.\n"
     ]
    }
   ],
   "source": [
    "# Listing generated CSV files of fixed rows\n",
    "data_time_rows = []\n",
    "num_workers_rows = 1\n",
    "csvs = os.listdir(path_rows)\n",
    "for csv in csvs:\n",
    "    if not csv.endswith(\".csv\"):\n",
    "        continue\n",
    "\n",
    "    print(f\"Validating {csv}...\", end=\" \")\n",
    "    file_path = os.path.join(path_rows, csv)\n",
    "    start_time = perf_counter()\n",
    "    df = validate_csv(file_path, num_workers_rows)\n",
    "    total_time = perf_counter() - start_time\n",
    "    data_time_rows.append((df.shape[1], total_time))\n",
    "    print(f\"Done in {total_time:.2f} seconds.\")"
   ]
  },
  {
   "cell_type": "code",
   "execution_count": 231,
   "id": "32fccfaf",
   "metadata": {},
   "outputs": [
    {
     "data": {
      "image/png": "[encoded data removed]",
      "text/plain": [
       "<Figure size 640x480 with 1 Axes>"
      ]
     },
     "metadata": {},
     "output_type": "display_data"
    }
   ],
   "source": [
    "df = pl.DataFrame(data_time_rows, schema=[\"columns\", \"time\"], orient=\"row\")\n",
    "df = df.sort(\"columns\")\n",
    "\n",
    "# Create the bar plot\n",
    "ax = sns.barplot(data=df, x=\"columns\", y=\"time\")\n",
    "plt.title(f\"Time of execution with {rows_fixed} rows and varying columns ({num_workers_rows} workers)\")\n",
    "plt.xlabel(\"Number of Columns\")\n",
    "plt.ylabel(\"Time (seconds)\")\n",
    "\n",
    "# Add text annotations for each bar\n",
    "for i, bar in enumerate(ax.patches):\n",
    "    # Get the height of the bar\n",
    "    height = bar.get_height()\n",
    "\n",
    "    # Add text annotation\n",
    "    ax.text(\n",
    "        bar.get_x() + bar.get_width()/2,  # x position (center of bar)\n",
    "        height + 0.5,                     # y position (just above bar)\n",
    "        f\"{height:.1f}s\",                 # text (formatted time)\n",
    "        ha='center',                      # horizontal alignment\n",
    "        va='bottom',                      # vertical alignment\n",
    "        fontsize=9,                       # font size\n",
    "    )\n",
    "\n",
    "plt.tight_layout()\n",
    "plt.savefig(f\"figures/rows-{rows_fixed}_num_workers-{num_workers_rows}.png\")\n",
    "plt.show()"
   ]
  },
  {
   "cell_type": "markdown",
   "id": "330bb606",
   "metadata": {},
   "source": [
    "### Fixed columns"
   ]
  },
  {
   "cell_type": "code",
   "execution_count": 222,
   "id": "391164ba",
   "metadata": {},
   "outputs": [
    {
     "name": "stdout",
     "output_type": "stream",
     "text": [
      "Validating data_rows-4000_columns-100.csv... Done in 19.54 seconds.\n",
      "Validating data_rows-6000_columns-100.csv... Done in 24.90 seconds.\n",
      "Validating data_rows-9000_columns-100.csv... Done in 36.71 seconds.\n",
      "Validating data_rows-1000_columns-100.csv... Done in 4.21 seconds.\n",
      "Validating data_rows-5000_columns-100.csv... Done in 20.63 seconds.\n",
      "Validating data_rows-10000_columns-100.csv... Done in 42.20 seconds.\n",
      "Validating data_rows-3000_columns-100.csv... Done in 12.39 seconds.\n",
      "Validating data_rows-2000_columns-100.csv... Done in 8.57 seconds.\n",
      "Validating data_rows-7000_columns-100.csv... Done in 29.41 seconds.\n",
      "Validating data_rows-8000_columns-100.csv... Done in 33.54 seconds.\n"
     ]
    }
   ],
   "source": [
    "# Listing generated CSV files of columns rows\n",
    "data_time_columns = []\n",
    "num_workers_columns = 1\n",
    "csvs = os.listdir(path_columns)\n",
    "\n",
    "for csv in csvs:\n",
    "    if not csv.endswith(\".csv\"):\n",
    "        continue\n",
    "\n",
    "    print(f\"Validating {csv}...\", end=\" \")\n",
    "    file_path = os.path.join(path_columns, csv)\n",
    "    start_time = perf_counter()\n",
    "    df = validate_csv(file_path, num_workers_columns)\n",
    "    total_time = perf_counter() - start_time\n",
    "    data_time_columns.append((df.shape[0], total_time))\n",
    "    print(f\"Done in {total_time:.2f} seconds.\")"
   ]
  },
  {
   "cell_type": "code",
   "execution_count": 232,
   "id": "9f7f7be1",
   "metadata": {},
   "outputs": [
    {
     "data": {
      "image/png": "[encoded data removed]",
      "text/plain": [
       "<Figure size 640x480 with 1 Axes>"
      ]
     },
     "metadata": {},
     "output_type": "display_data"
    }
   ],
   "source": [
    "df = pl.DataFrame(data_time_columns, schema=[\"rows\", \"time\"], orient=\"row\")\n",
    "# Sort by rows to ensure bars are in order\n",
    "df = df.sort(\"rows\")\n",
    "\n",
    "# Create the bar plot\n",
    "ax = sns.barplot(data=df, x=\"rows\", y=\"time\")\n",
    "plt.title(f\"Time of execution with {columns_fixed} columns and varying rows ({num_workers_columns} workers)\")\n",
    "plt.xlabel(\"Number of rows\")\n",
    "plt.ylabel(\"Time (seconds)\")\n",
    "\n",
    "# Add text annotations for each bar\n",
    "for i, bar in enumerate(ax.patches):\n",
    "    # Get the height of the bar\n",
    "    height = bar.get_height()\n",
    "\n",
    "    # Add text annotation\n",
    "    ax.text(\n",
    "        bar.get_x() + bar.get_width()/2,  # x position (center of bar)\n",
    "        height + 0.5,                     # y position (just above bar)\n",
    "        f\"{height:.1f}s\",                 # text (formatted time)\n",
    "        ha='center',                      # horizontal alignment\n",
    "        va='bottom',                      # vertical alignment\n",
    "        fontsize=9,                       # font size\n",
    "    )\n",
    "\n",
    "plt.tight_layout()\n",
    "plt.savefig(f\"figures/columns-{columns_fixed}_num_workers-{num_workers_rows}.png\")\n",
    "plt.show()"
   ]
  },
  {
   "cell_type": "code",
   "execution_count": null,
   "id": "41d460ee",
   "metadata": {},
   "outputs": [],
   "source": []
  }
 ],
 "metadata": {
  "kernelspec": {
   "display_name": ".venv",
   "language": "python",
   "name": "python3"
  },
  "language_info": {
   "codemirror_mode": {
    "name": "ipython",
    "version": 3
   },
   "file_extension": ".py",
   "mimetype": "text/x-python",
   "name": "python",
   "nbconvert_exporter": "python",
   "pygments_lexer": "ipython3",
   "version": "3.12.10"
  }
 },
 "nbformat": 4,
 "nbformat_minor": 5
}
